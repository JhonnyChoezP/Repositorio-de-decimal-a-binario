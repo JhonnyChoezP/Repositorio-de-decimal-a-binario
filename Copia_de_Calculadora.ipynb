{
  "nbformat": 4,
  "nbformat_minor": 0,
  "metadata": {
    "colab": {
      "provenance": [],
      "include_colab_link": true
    },
    "kernelspec": {
      "name": "python3",
      "display_name": "Python 3"
    },
    "language_info": {
      "name": "python"
    }
  },
  "cells": [
    {
      "cell_type": "markdown",
      "metadata": {
        "id": "view-in-github",
        "colab_type": "text"
      },
      "source": [
        "<a href=\"https://colab.research.google.com/github/JhonnyChoezP/Repositorio-de-decimal-a-binario/blob/main/Copia_de_Calculadora.ipynb\" target=\"_parent\"><img src=\"https://colab.research.google.com/assets/colab-badge.svg\" alt=\"Open In Colab\"/></a>"
      ]
    },
    {
      "cell_type": "code",
      "execution_count": null,
      "metadata": {
        "colab": {
          "base_uri": "https://localhost:8080/"
        },
        "id": "TZ9XqgylA1D9",
        "outputId": "d788fc0b-6456-4693-9d61-d512f058f20f"
      },
      "outputs": [
        {
          "output_type": "stream",
          "name": "stdout",
          "text": [
            "19\n",
            "[1, 1, 0, 0, 1]\n",
            "¿Como se llama?\n",
            "jhonny\n",
            "Me alegro de conocerle, jhonny\n"
          ]
        }
      ],
      "source": [
        "numero_decimal = int(input()) # este es el número que queremos convertir a binario\n",
        "\n",
        "modulos = [] # la lista para guardar los módulos\n",
        "\n",
        "while numero_decimal != 0: # mientras el número de entrada sea diferente de cero\n",
        "    # paso 1: dividimos entre 2\n",
        "    modulo = numero_decimal % 2\n",
        "    cociente = numero_decimal // 2\n",
        "    modulos.append(modulo) # guardamos el módulo calculado\n",
        "    numero_decimal = cociente # el cociente pasa a ser el número de entrada\n",
        "    \n",
        "print(modulos)\n",
        "print(\"¿Como se llama?\")\n",
        "nombre = input()\n",
        "print( f\"Me alegro de conocerle, {nombre}\")"
      ]
    },
    {
      "cell_type": "code",
      "source": [
        "numero_binario = '11001'\n",
        "\n",
        "posicion = len(numero_binario) - 1 #posición del primer dígito por la izquierda\n",
        "\n",
        "for digito_string in numero_binario:\n",
        "\tdigito = int(digito_string)\n",
        "\tprint(f'Dígito: {digito}, posición: {posicion}')\n",
        "\tposicion -= 1 # restamos 1 a la posición"
      ],
      "metadata": {
        "colab": {
          "base_uri": "https://localhost:8080/"
        },
        "id": "Hyg-LH2iBidl",
        "outputId": "02b376b7-27cd-4528-bb71-ed40a3174452"
      },
      "execution_count": null,
      "outputs": [
        {
          "output_type": "stream",
          "name": "stdout",
          "text": [
            "Dígito: 1, posición: 4\n",
            "Dígito: 1, posición: 3\n",
            "Dígito: 0, posición: 2\n",
            "Dígito: 0, posición: 1\n",
            "Dígito: 1, posición: 0\n"
          ]
        }
      ]
    },
    {
      "cell_type": "markdown",
      "source": [],
      "metadata": {
        "id": "KaRL_dzeBgzO"
      }
    }
  ]
}